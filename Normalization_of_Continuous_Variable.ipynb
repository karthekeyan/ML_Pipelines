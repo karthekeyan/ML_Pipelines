{
 "cells": [
  {
   "cell_type": "markdown",
   "metadata": {},
   "source": [
    "### Normalization"
   ]
  },
  {
   "cell_type": "code",
   "execution_count": null,
   "metadata": {},
   "outputs": [],
   "source": [
    "#Normalisation helps you to scale down the features (continuous values) between 0 to 1\n",
    "\n",
    "# Formula\n",
    "# Xnorm = (X - Xmin) / (Xmax - Xmin)\n",
    "\n"
   ]
  },
  {
   "cell_type": "code",
   "execution_count": null,
   "metadata": {},
   "outputs": [],
   "source": [
    "# Normalisation using Manual method\n",
    "df[\"col\"] = (df[\"col\"] - df[\"col\"].min()) / (df[\"col\"].max() - df[\"df\"].min())"
   ]
  },
  {
   "cell_type": "code",
   "execution_count": null,
   "metadata": {},
   "outputs": [],
   "source": [
    "#Using MinmaxScalar\n",
    "\n",
    "from sklearn.preprocessing import MinMaxScalar\n",
    "scaling = MinMaxScalar() # creating an object for MinMaxScalar\n",
    "scaling.fit_transform(df[['col1', 'col2']])"
   ]
  },
  {
   "cell_type": "markdown",
   "metadata": {},
   "source": [
    "### Standardization  (Z-Score Normalization)"
   ]
  },
  {
   "cell_type": "code",
   "execution_count": null,
   "metadata": {},
   "outputs": [],
   "source": [
    "#Standarisation helps you to scale your features based on standard normal distribution \n",
    "#In std. Normal distribution, mean is 0 and standard deviation is 1.\n",
    "\n",
    "from sklearn.preprocessing import StandardScaler\n",
    "scaling = StandardScaler()\n",
    "scaling.fit_transform(df[['col1', 'col2']])\n"
   ]
  },
  {
   "cell_type": "code",
   "execution_count": null,
   "metadata": {},
   "outputs": [],
   "source": []
  }
 ],
 "metadata": {
  "kernelspec": {
   "display_name": "Python 3",
   "language": "python",
   "name": "python3"
  },
  "language_info": {
   "codemirror_mode": {
    "name": "ipython",
    "version": 3
   },
   "file_extension": ".py",
   "mimetype": "text/x-python",
   "name": "python",
   "nbconvert_exporter": "python",
   "pygments_lexer": "ipython3",
   "version": "3.7.4"
  }
 },
 "nbformat": 4,
 "nbformat_minor": 2
}
